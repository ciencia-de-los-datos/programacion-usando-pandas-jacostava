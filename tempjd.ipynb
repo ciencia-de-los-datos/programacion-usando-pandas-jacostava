{
 "cells": [
  {
   "cell_type": "code",
   "execution_count": 2,
   "metadata": {},
   "outputs": [],
   "source": [
    "import pandas as pd"
   ]
  },
  {
   "cell_type": "code",
   "execution_count": 3,
   "metadata": {},
   "outputs": [],
   "source": [
    "tbl0 = pd.read_csv(\"tbl0.tsv\", sep=\"\\t\")\n",
    "tbl1 = pd.read_csv(\"tbl1.tsv\", sep=\"\\t\")\n",
    "tbl2 = pd.read_csv(\"tbl2.tsv\", sep=\"\\t\")"
   ]
  },
  {
   "cell_type": "code",
   "execution_count": 4,
   "metadata": {},
   "outputs": [
    {
     "name": "stdout",
     "output_type": "stream",
     "text": [
      "<class 'pandas.core.frame.DataFrame'>\n",
      "RangeIndex: 40 entries, 0 to 39\n",
      "Data columns (total 4 columns):\n",
      " #   Column  Non-Null Count  Dtype \n",
      "---  ------  --------------  ----- \n",
      " 0   _c0     40 non-null     int64 \n",
      " 1   _c1     40 non-null     object\n",
      " 2   _c2     40 non-null     int64 \n",
      " 3   _c3     40 non-null     object\n",
      "dtypes: int64(2), object(2)\n",
      "memory usage: 1.4+ KB\n"
     ]
    }
   ],
   "source": [
    "tbl0.info()"
   ]
  },
  {
   "cell_type": "code",
   "execution_count": 5,
   "metadata": {},
   "outputs": [
    {
     "name": "stdout",
     "output_type": "stream",
     "text": [
      "<class 'pandas.core.frame.DataFrame'>\n",
      "RangeIndex: 113 entries, 0 to 112\n",
      "Data columns (total 2 columns):\n",
      " #   Column  Non-Null Count  Dtype \n",
      "---  ------  --------------  ----- \n",
      " 0   _c0     113 non-null    int64 \n",
      " 1   _c4     113 non-null    object\n",
      "dtypes: int64(1), object(1)\n",
      "memory usage: 1.9+ KB\n"
     ]
    }
   ],
   "source": [
    "tbl1.info()"
   ]
  },
  {
   "cell_type": "code",
   "execution_count": 6,
   "metadata": {},
   "outputs": [
    {
     "name": "stdout",
     "output_type": "stream",
     "text": [
      "<class 'pandas.core.frame.DataFrame'>\n",
      "RangeIndex: 175 entries, 0 to 174\n",
      "Data columns (total 3 columns):\n",
      " #   Column  Non-Null Count  Dtype \n",
      "---  ------  --------------  ----- \n",
      " 0   _c0     175 non-null    int64 \n",
      " 1   _c5a    175 non-null    object\n",
      " 2   _c5b    175 non-null    int64 \n",
      "dtypes: int64(2), object(1)\n",
      "memory usage: 4.2+ KB\n"
     ]
    }
   ],
   "source": [
    "tbl2.info()"
   ]
  },
  {
   "cell_type": "code",
   "execution_count": 27,
   "metadata": {},
   "outputs": [
    {
     "data": {
      "text/plain": [
       "40"
      ]
     },
     "execution_count": 27,
     "metadata": {},
     "output_type": "execute_result"
    }
   ],
   "source": [
    "x = tbl0.shape\n",
    "regs = x[0]\n",
    "regs"
   ]
  },
  {
   "cell_type": "code",
   "execution_count": 28,
   "metadata": {},
   "outputs": [
    {
     "data": {
      "text/plain": [
       "A     8\n",
       "B     7\n",
       "C     5\n",
       "D     6\n",
       "E    14\n",
       "Name: _c1, dtype: int64"
      ]
     },
     "execution_count": 28,
     "metadata": {},
     "output_type": "execute_result"
    }
   ],
   "source": [
    "x = tbl0._c1.value_counts().sort_index()\n",
    "x\n"
   ]
  },
  {
   "cell_type": "code",
   "execution_count": 9,
   "metadata": {},
   "outputs": [
    {
     "data": {
      "text/plain": [
       "_c1\n",
       "A    4.625000\n",
       "B    5.142857\n",
       "C    5.400000\n",
       "D    3.833333\n",
       "E    4.785714\n",
       "Name: _c2, dtype: float64"
      ]
     },
     "execution_count": 9,
     "metadata": {},
     "output_type": "execute_result"
    }
   ],
   "source": [
    "x = tbl0.groupby('_c1')[\"_c2\"].mean()\n",
    "x"
   ]
  },
  {
   "cell_type": "code",
   "execution_count": 10,
   "metadata": {},
   "outputs": [
    {
     "data": {
      "text/plain": [
       "_c1\n",
       "A    9\n",
       "B    9\n",
       "C    9\n",
       "D    7\n",
       "E    9\n",
       "Name: _c2, dtype: int64"
      ]
     },
     "execution_count": 10,
     "metadata": {},
     "output_type": "execute_result"
    }
   ],
   "source": [
    "tbl0.groupby('_c1')[\"_c2\"].max()"
   ]
  },
  {
   "cell_type": "code",
   "execution_count": 11,
   "metadata": {},
   "outputs": [
    {
     "data": {
      "text/plain": [
       "['A', 'B', 'C', 'D', 'E', 'F', 'G']"
      ]
     },
     "execution_count": 11,
     "metadata": {},
     "output_type": "execute_result"
    }
   ],
   "source": [
    "sorted(tbl1[\"_c4\"].str.upper().unique())"
   ]
  },
  {
   "cell_type": "code",
   "execution_count": 12,
   "metadata": {},
   "outputs": [
    {
     "data": {
      "text/plain": [
       "_c1\n",
       "A    37\n",
       "B    36\n",
       "C    27\n",
       "D    23\n",
       "E    67\n",
       "Name: _c2, dtype: int64"
      ]
     },
     "execution_count": 12,
     "metadata": {},
     "output_type": "execute_result"
    }
   ],
   "source": [
    "tbl0.groupby('_c1')[\"_c2\"].sum()"
   ]
  },
  {
   "cell_type": "code",
   "execution_count": 13,
   "metadata": {},
   "outputs": [
    {
     "data": {
      "text/plain": [
       "_c1\n",
       "A                1:1:2:3:6:7:8:9\n",
       "B                  1:3:4:5:6:8:9\n",
       "C                      0:5:6:7:9\n",
       "D                    1:2:3:5:5:7\n",
       "E    1:1:2:3:3:4:5:5:5:6:7:8:8:9\n",
       "Name: _c2, dtype: object"
      ]
     },
     "execution_count": 13,
     "metadata": {},
     "output_type": "execute_result"
    }
   ],
   "source": [
    "tbl0[\"_c2\"] = tbl0[\"_c2\"].astype('str')\n",
    "tbl0.groupby('_c1')[str(\"_c2\")].apply(lambda x: ':'.join(sorted(x)))\n"
   ]
  },
  {
   "cell_type": "code",
   "execution_count": 14,
   "metadata": {},
   "outputs": [
    {
     "data": {
      "text/plain": [
       "['b;f;g', 'a;c;f', 'a;c;e;f', 'a;b', 'a;d;f;g']"
      ]
     },
     "execution_count": 14,
     "metadata": {},
     "output_type": "execute_result"
    }
   ],
   "source": [
    "A= tbl1.groupby(\"_c0\")[\"_c4\"].apply(lambda x: \";\".join(sorted(x))).reset_index()\n",
    "A[\"_c4\"].head().tolist()"
   ]
  },
  {
   "cell_type": "code",
   "execution_count": 15,
   "metadata": {},
   "outputs": [
    {
     "data": {
      "text/html": [
       "<div>\n",
       "<style scoped>\n",
       "    .dataframe tbody tr th:only-of-type {\n",
       "        vertical-align: middle;\n",
       "    }\n",
       "\n",
       "    .dataframe tbody tr th {\n",
       "        vertical-align: top;\n",
       "    }\n",
       "\n",
       "    .dataframe thead th {\n",
       "        text-align: right;\n",
       "    }\n",
       "</style>\n",
       "<table border=\"1\" class=\"dataframe\">\n",
       "  <thead>\n",
       "    <tr style=\"text-align: right;\">\n",
       "      <th></th>\n",
       "      <th>_c0</th>\n",
       "      <th>_c5</th>\n",
       "    </tr>\n",
       "  </thead>\n",
       "  <tbody>\n",
       "    <tr>\n",
       "      <th>0</th>\n",
       "      <td>0</td>\n",
       "      <td>bbb:0;ddd:9;ggg:8;hhh:2;jjj:3</td>\n",
       "    </tr>\n",
       "    <tr>\n",
       "      <th>1</th>\n",
       "      <td>1</td>\n",
       "      <td>aaa:3;ccc:2;ddd:0;hhh:9</td>\n",
       "    </tr>\n",
       "    <tr>\n",
       "      <th>2</th>\n",
       "      <td>2</td>\n",
       "      <td>ccc:6;ddd:2;ggg:5;jjj:1</td>\n",
       "    </tr>\n",
       "    <tr>\n",
       "      <th>3</th>\n",
       "      <td>3</td>\n",
       "      <td>bbb:1;eee:7;hhh:9;iii:5</td>\n",
       "    </tr>\n",
       "    <tr>\n",
       "      <th>4</th>\n",
       "      <td>4</td>\n",
       "      <td>ddd:5;eee:4;iii:6;jjj:3</td>\n",
       "    </tr>\n",
       "    <tr>\n",
       "      <th>5</th>\n",
       "      <td>5</td>\n",
       "      <td>aaa:7;bbb:2;ccc:4;fff:1;hhh:0</td>\n",
       "    </tr>\n",
       "    <tr>\n",
       "      <th>6</th>\n",
       "      <td>6</td>\n",
       "      <td>aaa:5;ccc:1;ddd:2;fff:8;iii:0;jjj:7</td>\n",
       "    </tr>\n",
       "    <tr>\n",
       "      <th>7</th>\n",
       "      <td>7</td>\n",
       "      <td>ddd:2;fff:3;hhh:1</td>\n",
       "    </tr>\n",
       "    <tr>\n",
       "      <th>8</th>\n",
       "      <td>8</td>\n",
       "      <td>bbb:0;ccc:5;eee:4;fff:7;ggg:6;iii:9</td>\n",
       "    </tr>\n",
       "    <tr>\n",
       "      <th>9</th>\n",
       "      <td>9</td>\n",
       "      <td>bbb:7;eee:3;fff:5;ggg:2;iii:4;jjj:9</td>\n",
       "    </tr>\n",
       "    <tr>\n",
       "      <th>10</th>\n",
       "      <td>10</td>\n",
       "      <td>eee:4;fff:2;hhh:6;iii:0;jjj:1</td>\n",
       "    </tr>\n",
       "    <tr>\n",
       "      <th>11</th>\n",
       "      <td>11</td>\n",
       "      <td>bbb:7;ggg:9;iii:6</td>\n",
       "    </tr>\n",
       "    <tr>\n",
       "      <th>12</th>\n",
       "      <td>12</td>\n",
       "      <td>aaa:3;bbb:9;ccc:6;eee:2;fff:4</td>\n",
       "    </tr>\n",
       "    <tr>\n",
       "      <th>13</th>\n",
       "      <td>13</td>\n",
       "      <td>aaa:8;ddd:5;jjj:1</td>\n",
       "    </tr>\n",
       "    <tr>\n",
       "      <th>14</th>\n",
       "      <td>14</td>\n",
       "      <td>aaa:2;ccc:0;ddd:3;fff:7;jjj:6</td>\n",
       "    </tr>\n",
       "    <tr>\n",
       "      <th>15</th>\n",
       "      <td>15</td>\n",
       "      <td>bbb:9;ccc:0;ddd:3;eee:6</td>\n",
       "    </tr>\n",
       "    <tr>\n",
       "      <th>16</th>\n",
       "      <td>16</td>\n",
       "      <td>bbb:6;ddd:2;fff:4;ggg:9;hhh:5;iii:3</td>\n",
       "    </tr>\n",
       "    <tr>\n",
       "      <th>17</th>\n",
       "      <td>17</td>\n",
       "      <td>ccc:9;hhh:4;jjj:5</td>\n",
       "    </tr>\n",
       "    <tr>\n",
       "      <th>18</th>\n",
       "      <td>18</td>\n",
       "      <td>ccc:1;fff:9;iii:6</td>\n",
       "    </tr>\n",
       "    <tr>\n",
       "      <th>19</th>\n",
       "      <td>19</td>\n",
       "      <td>aaa:3;bbb:9;fff:1</td>\n",
       "    </tr>\n",
       "    <tr>\n",
       "      <th>20</th>\n",
       "      <td>20</td>\n",
       "      <td>aaa:4;ddd:9;iii:2</td>\n",
       "    </tr>\n",
       "    <tr>\n",
       "      <th>21</th>\n",
       "      <td>21</td>\n",
       "      <td>ccc:5;fff:8;iii:7</td>\n",
       "    </tr>\n",
       "    <tr>\n",
       "      <th>22</th>\n",
       "      <td>22</td>\n",
       "      <td>ddd:7;eee:3;jjj:2</td>\n",
       "    </tr>\n",
       "    <tr>\n",
       "      <th>23</th>\n",
       "      <td>23</td>\n",
       "      <td>bbb:3;ccc:7;ddd:9;ggg:0;jjj:1</td>\n",
       "    </tr>\n",
       "    <tr>\n",
       "      <th>24</th>\n",
       "      <td>24</td>\n",
       "      <td>aaa:1;ccc:0;ggg:8;hhh:9;iii:7;jjj:6</td>\n",
       "    </tr>\n",
       "    <tr>\n",
       "      <th>25</th>\n",
       "      <td>25</td>\n",
       "      <td>bbb:7;ccc:1;ddd:0;eee:6;fff:3;iii:4</td>\n",
       "    </tr>\n",
       "    <tr>\n",
       "      <th>26</th>\n",
       "      <td>26</td>\n",
       "      <td>ccc:4;ddd:5;fff:0</td>\n",
       "    </tr>\n",
       "    <tr>\n",
       "      <th>27</th>\n",
       "      <td>27</td>\n",
       "      <td>ccc:0;ddd:9;ggg:6;hhh:3;jjj:7</td>\n",
       "    </tr>\n",
       "    <tr>\n",
       "      <th>28</th>\n",
       "      <td>28</td>\n",
       "      <td>ccc:3;eee:5;hhh:6;iii:7;jjj:0</td>\n",
       "    </tr>\n",
       "    <tr>\n",
       "      <th>29</th>\n",
       "      <td>29</td>\n",
       "      <td>aaa:2;ccc:7;ddd:6;eee:1;fff:4;ggg:0</td>\n",
       "    </tr>\n",
       "    <tr>\n",
       "      <th>30</th>\n",
       "      <td>30</td>\n",
       "      <td>aaa:9;bbb:3;ccc:6;ddd:0;eee:5</td>\n",
       "    </tr>\n",
       "    <tr>\n",
       "      <th>31</th>\n",
       "      <td>31</td>\n",
       "      <td>aaa:6;bbb:7;ddd:5;fff:9;hhh:1;iii:4</td>\n",
       "    </tr>\n",
       "    <tr>\n",
       "      <th>32</th>\n",
       "      <td>32</td>\n",
       "      <td>ccc:1;eee:5;fff:3;ggg:2</td>\n",
       "    </tr>\n",
       "    <tr>\n",
       "      <th>33</th>\n",
       "      <td>33</td>\n",
       "      <td>ccc:1;ddd:0;ggg:3;hhh:5;iii:7;jjj:8</td>\n",
       "    </tr>\n",
       "    <tr>\n",
       "      <th>34</th>\n",
       "      <td>34</td>\n",
       "      <td>bbb:8;ccc:3;ddd:7;hhh:6;jjj:0</td>\n",
       "    </tr>\n",
       "    <tr>\n",
       "      <th>35</th>\n",
       "      <td>35</td>\n",
       "      <td>aaa:0;ddd:3;fff:5</td>\n",
       "    </tr>\n",
       "    <tr>\n",
       "      <th>36</th>\n",
       "      <td>36</td>\n",
       "      <td>bbb:4;ccc:0;ddd:5;iii:7;jjj:2</td>\n",
       "    </tr>\n",
       "    <tr>\n",
       "      <th>37</th>\n",
       "      <td>37</td>\n",
       "      <td>eee:0;fff:2;hhh:6</td>\n",
       "    </tr>\n",
       "    <tr>\n",
       "      <th>38</th>\n",
       "      <td>38</td>\n",
       "      <td>eee:0;fff:9;iii:2</td>\n",
       "    </tr>\n",
       "    <tr>\n",
       "      <th>39</th>\n",
       "      <td>39</td>\n",
       "      <td>ggg:3;hhh:8;jjj:5</td>\n",
       "    </tr>\n",
       "  </tbody>\n",
       "</table>\n",
       "</div>"
      ],
      "text/plain": [
       "    _c0                                  _c5\n",
       "0     0        bbb:0;ddd:9;ggg:8;hhh:2;jjj:3\n",
       "1     1              aaa:3;ccc:2;ddd:0;hhh:9\n",
       "2     2              ccc:6;ddd:2;ggg:5;jjj:1\n",
       "3     3              bbb:1;eee:7;hhh:9;iii:5\n",
       "4     4              ddd:5;eee:4;iii:6;jjj:3\n",
       "5     5        aaa:7;bbb:2;ccc:4;fff:1;hhh:0\n",
       "6     6  aaa:5;ccc:1;ddd:2;fff:8;iii:0;jjj:7\n",
       "7     7                    ddd:2;fff:3;hhh:1\n",
       "8     8  bbb:0;ccc:5;eee:4;fff:7;ggg:6;iii:9\n",
       "9     9  bbb:7;eee:3;fff:5;ggg:2;iii:4;jjj:9\n",
       "10   10        eee:4;fff:2;hhh:6;iii:0;jjj:1\n",
       "11   11                    bbb:7;ggg:9;iii:6\n",
       "12   12        aaa:3;bbb:9;ccc:6;eee:2;fff:4\n",
       "13   13                    aaa:8;ddd:5;jjj:1\n",
       "14   14        aaa:2;ccc:0;ddd:3;fff:7;jjj:6\n",
       "15   15              bbb:9;ccc:0;ddd:3;eee:6\n",
       "16   16  bbb:6;ddd:2;fff:4;ggg:9;hhh:5;iii:3\n",
       "17   17                    ccc:9;hhh:4;jjj:5\n",
       "18   18                    ccc:1;fff:9;iii:6\n",
       "19   19                    aaa:3;bbb:9;fff:1\n",
       "20   20                    aaa:4;ddd:9;iii:2\n",
       "21   21                    ccc:5;fff:8;iii:7\n",
       "22   22                    ddd:7;eee:3;jjj:2\n",
       "23   23        bbb:3;ccc:7;ddd:9;ggg:0;jjj:1\n",
       "24   24  aaa:1;ccc:0;ggg:8;hhh:9;iii:7;jjj:6\n",
       "25   25  bbb:7;ccc:1;ddd:0;eee:6;fff:3;iii:4\n",
       "26   26                    ccc:4;ddd:5;fff:0\n",
       "27   27        ccc:0;ddd:9;ggg:6;hhh:3;jjj:7\n",
       "28   28        ccc:3;eee:5;hhh:6;iii:7;jjj:0\n",
       "29   29  aaa:2;ccc:7;ddd:6;eee:1;fff:4;ggg:0\n",
       "30   30        aaa:9;bbb:3;ccc:6;ddd:0;eee:5\n",
       "31   31  aaa:6;bbb:7;ddd:5;fff:9;hhh:1;iii:4\n",
       "32   32              ccc:1;eee:5;fff:3;ggg:2\n",
       "33   33  ccc:1;ddd:0;ggg:3;hhh:5;iii:7;jjj:8\n",
       "34   34        bbb:8;ccc:3;ddd:7;hhh:6;jjj:0\n",
       "35   35                    aaa:0;ddd:3;fff:5\n",
       "36   36        bbb:4;ccc:0;ddd:5;iii:7;jjj:2\n",
       "37   37                    eee:0;fff:2;hhh:6\n",
       "38   38                    eee:0;fff:9;iii:2\n",
       "39   39                    ggg:3;hhh:8;jjj:5"
      ]
     },
     "execution_count": 15,
     "metadata": {},
     "output_type": "execute_result"
    }
   ],
   "source": [
    "tbl2[\"_c5b\"] = tbl2[\"_c5b\"].astype('str')\n",
    "tbl2[\"_c5\"] = tbl2[\"_c5a\"].str.cat(tbl2[\"_c5b\"],sep = ':')\n",
    "tbl2.groupby(\"_c0\")[\"_c5\"].apply(lambda x: \";\".join(sorted(x))).reset_index()"
   ]
  },
  {
   "cell_type": "code",
   "execution_count": 16,
   "metadata": {},
   "outputs": [
    {
     "name": "stdout",
     "output_type": "stream",
     "text": [
      "<class 'pandas.core.frame.DataFrame'>\n",
      "RangeIndex: 175 entries, 0 to 174\n",
      "Data columns (total 4 columns):\n",
      " #   Column  Non-Null Count  Dtype \n",
      "---  ------  --------------  ----- \n",
      " 0   _c0     175 non-null    int64 \n",
      " 1   _c5a    175 non-null    object\n",
      " 2   _c5b    175 non-null    object\n",
      " 3   _c5     175 non-null    object\n",
      "dtypes: int64(1), object(3)\n",
      "memory usage: 5.6+ KB\n"
     ]
    }
   ],
   "source": [
    "tbl2.info()"
   ]
  },
  {
   "cell_type": "code",
   "execution_count": 35,
   "metadata": {},
   "outputs": [
    {
     "name": "stdout",
     "output_type": "stream",
     "text": [
      "_c1\n",
      "A    146\n",
      "B    134\n",
      "C     81\n",
      "D    112\n",
      "E    275\n",
      "Name: _c5b, dtype: int32\n"
     ]
    }
   ],
   "source": [
    "tbl0.set_index(\"_c0\")\n",
    "tbl2.set_index(\"_c0\")\n",
    "tbl2[\"_c5b\"] = tbl2[\"_c5b\"].astype('int')\n",
    "sln2 = pd.merge(tbl0,tbl2,on=\"_c0\")\n",
    "x = sln2.groupby(\"_c1\")[\"_c5b\"].sum()\n",
    "print(x)\n"
   ]
  },
  {
   "cell_type": "code",
   "execution_count": 26,
   "metadata": {},
   "outputs": [
    {
     "data": {
      "text/plain": [
       "_c1\n",
       "A:    146\n",
       "B:    134\n",
       "C:     81\n",
       "D:    112\n",
       "E:    275\n",
       "Name: _c5b, dtype: int32"
      ]
     },
     "execution_count": 26,
     "metadata": {},
     "output_type": "execute_result"
    }
   ],
   "source": [
    "tbl2[\"_c5b\"] = tbl2[\"_c5b\"].astype('int')\n",
    "df = pd.merge(tbl0,tbl2,how=\"left\").drop([\"_c2\",\"_c3\"], axis = 1)\n",
    "df[\"_c1n\"] = df[\"_c1\"] + \":\"\n",
    "df.rename(columns={\"_c1\" : \"_c1v\", \"_c1n\" : \"_c1\"}, inplace=True)\n",
    "sln2 = df.groupby(\"_c1\")[\"_c5b\"].sum()\n",
    "sln2\n"
   ]
  },
  {
   "cell_type": "code",
   "execution_count": null,
   "metadata": {},
   "outputs": [],
   "source": []
  }
 ],
 "metadata": {
  "kernelspec": {
   "display_name": "Python 3",
   "language": "python",
   "name": "python3"
  },
  "language_info": {
   "codemirror_mode": {
    "name": "ipython",
    "version": 3
   },
   "file_extension": ".py",
   "mimetype": "text/x-python",
   "name": "python",
   "nbconvert_exporter": "python",
   "pygments_lexer": "ipython3",
   "version": "3.9.13"
  },
  "orig_nbformat": 4
 },
 "nbformat": 4,
 "nbformat_minor": 2
}
